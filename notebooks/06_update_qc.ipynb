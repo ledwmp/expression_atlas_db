{
 "cells": [
  {
   "cell_type": "code",
   "execution_count": 1,
   "metadata": {},
   "outputs": [],
   "source": [
    "from expression_atlas_db import base, load_db, settings, queries"
   ]
  },
  {
   "cell_type": "code",
   "execution_count": 2,
   "metadata": {},
   "outputs": [],
   "source": [
    "Session = base.configure(settings.db_connection_string)\n",
    "session = Session()"
   ]
  },
  {
   "cell_type": "code",
   "execution_count": 3,
   "metadata": {},
   "outputs": [
    {
     "name": "stderr",
     "output_type": "stream",
     "text": [
      "INFO:root:Updating QC sheet.\n",
      "INFO:aiobotocore.credentials:Found credentials from IAM Role: AWSScopedAccess\n",
      "INFO:root:Reading QC sheet: velia-piperuns-dev/expression_atlas/staging/qc.6.txt.\n",
      "INFO:root:Updated studies with QC sheet: velia-piperuns-dev/expression_atlas/staging/qc.6.txt.\n"
     ]
    }
   ],
   "source": [
    "# Run update, pulling qc from s3 staging and updating qc dependent on qc file.\n",
    "\n",
    "load_db.update_studies_qc(\n",
    "    connection_string=settings.db_connection_string,\n",
    ")"
   ]
  },
  {
   "cell_type": "code",
   "execution_count": 4,
   "metadata": {},
   "outputs": [
    {
     "data": {
      "text/plain": [
       "[('GSE122459',),\n",
       " ('GSE139358',),\n",
       " ('GSE112087',),\n",
       " ('SRP102685',),\n",
       " ('SRP221484',),\n",
       " ('ERP106487',),\n",
       " ('GSE83687',),\n",
       " ('SRP042228',),\n",
       " ('SRP055438',),\n",
       " ('SRP173298',),\n",
       " ('SRP226476',),\n",
       " ('SRP303290',),\n",
       " ('GSE120178',),\n",
       " ('SRP100787',),\n",
       " ('SRP304149',),\n",
       " ('SRP321796',),\n",
       " ('SRP379573',),\n",
       " ('SRP155976',),\n",
       " ('SRP414798',)]"
      ]
     },
     "execution_count": 4,
     "metadata": {},
     "output_type": "execute_result"
    }
   ],
   "source": [
    "[*session.query(base.Study.velia_id).filter(base.Study.public == False)]"
   ]
  }
 ],
 "metadata": {
  "kernelspec": {
   "display_name": "test_db",
   "language": "python",
   "name": "test_db"
  },
  "orig_nbformat": 4
 },
 "nbformat": 4,
 "nbformat_minor": 2
}
