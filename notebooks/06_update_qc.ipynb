{
 "cells": [
  {
   "cell_type": "code",
   "execution_count": 1,
   "metadata": {},
   "outputs": [],
   "source": [
    "from expression_atlas_db import base, load_db, settings, queries"
   ]
  },
  {
   "cell_type": "code",
   "execution_count": 2,
   "metadata": {},
   "outputs": [],
   "source": [
    "Session = base.configure(settings.db_connection_string)\n",
    "session = Session()"
   ]
  },
  {
   "cell_type": "code",
   "execution_count": 3,
   "metadata": {},
   "outputs": [
    {
     "name": "stderr",
     "output_type": "stream",
     "text": [
      "INFO:root:Updating QC sheet.\n",
      "INFO:aiobotocore.credentials:Found credentials from IAM Role: AWSScopedAccess\n",
      "INFO:root:Reading QC sheet: velia-piperuns-dev/expression_atlas/staging/qc.10.txt.\n",
      "INFO:root:Updated studies with QC sheet: velia-piperuns-dev/expression_atlas/staging/qc.10.txt.\n"
     ]
    }
   ],
   "source": [
    "# Run update, pulling qc from s3 staging and updating qc dependent on qc file.\n",
    "\n",
    "load_db.update_studies_qc(\n",
    "    connection_string=settings.db_connection_string,\n",
    ")"
   ]
  },
  {
   "cell_type": "code",
   "execution_count": 5,
   "metadata": {},
   "outputs": [
    {
     "data": {
      "text/plain": [
       "[('ERP151282',),\n",
       " ('GSE102371',),\n",
       " ('GSE110914',),\n",
       " ('GSE123018',),\n",
       " ('GSE143323',),\n",
       " ('GSE122340',),\n",
       " ('GSE130955',),\n",
       " ('GSE194331',),\n",
       " ('ERP105501',),\n",
       " ('ERP109255',),\n",
       " ('GSE152991',),\n",
       " ('GSE157159',),\n",
       " ('SRP220377',),\n",
       " ('ERP146053',),\n",
       " ('GSE162828',),\n",
       " ('GSE206364',),\n",
       " ('GSE213001',),\n",
       " ('GSE231692',),\n",
       " ('GSE72509',),\n",
       " ('SRP435935',),\n",
       " ('GSE208041',),\n",
       " ('GSE80183',),\n",
       " ('GSE89408',),\n",
       " ('SRP035988',),\n",
       " ('SRP053101',),\n",
       " ('SRP065812',),\n",
       " ('SRP090849',),\n",
       " ('SRP096757',),\n",
       " ('SRP113470',),\n",
       " ('SRP129004',),\n",
       " ('SRP132990',),\n",
       " ('SRP186450',),\n",
       " ('SRP191103',),\n",
       " ('SRP201604',),\n",
       " ('SRP277091',),\n",
       " ('SRP217231',),\n",
       " ('SRP226115',),\n",
       " ('SRP265346',),\n",
       " ('SRP278883',),\n",
       " ('SRP288300',),\n",
       " ('SRP237545',),\n",
       " ('SRP298703',),\n",
       " ('SRP458076',),\n",
       " ('GSE154306',),\n",
       " ('GSE131705',),\n",
       " ('SRP238597',),\n",
       " ('ERP106487',),\n",
       " ('GSE121212',),\n",
       " ('SRP287301',),\n",
       " ('SRP293215',),\n",
       " ('SRP432399',),\n",
       " ('ERP017123',),\n",
       " ('SRP108496',),\n",
       " ('SRP363868',),\n",
       " ('SRP223858',),\n",
       " ('SRP021193',),\n",
       " ('SRP398015',),\n",
       " ('SRP439857',),\n",
       " ('SRP412930',),\n",
       " ('SRP445599',),\n",
       " ('SRP149374',),\n",
       " ('SRP348454',),\n",
       " ('GSE194263',),\n",
       " ('SRP237337',),\n",
       " ('SRP311611',),\n",
       " ('SRP273719',)]"
      ]
     },
     "execution_count": 5,
     "metadata": {},
     "output_type": "execute_result"
    }
   ],
   "source": [
    "[*session.query(base.Study.velia_id).filter(base.Study.public == True)]"
   ]
  }
 ],
 "metadata": {
  "kernelspec": {
   "display_name": "test_db",
   "language": "python",
   "name": "python3"
  },
  "language_info": {
   "codemirror_mode": {
    "name": "ipython",
    "version": 3
   },
   "file_extension": ".py",
   "mimetype": "text/x-python",
   "name": "python",
   "nbconvert_exporter": "python",
   "pygments_lexer": "ipython3",
   "version": "3.8.18"
  },
  "orig_nbformat": 4
 },
 "nbformat": 4,
 "nbformat_minor": 2
}
