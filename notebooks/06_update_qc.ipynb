{
 "cells": [
  {
   "cell_type": "code",
   "execution_count": 1,
   "metadata": {},
   "outputs": [],
   "source": [
    "from expression_atlas_db import base, load_db, settings"
   ]
  },
  {
   "cell_type": "code",
   "execution_count": 2,
   "metadata": {},
   "outputs": [],
   "source": [
    "Session = base.configure(settings.db_connection_string)\n",
    "session = Session()"
   ]
  },
  {
   "cell_type": "code",
   "execution_count": 5,
   "metadata": {},
   "outputs": [
    {
     "data": {
      "text/plain": [
       "[('1feece4d9e7f',), ('55614015ac51',), ('87e23735af2d',)]"
      ]
     },
     "execution_count": 5,
     "metadata": {},
     "output_type": "execute_result"
    }
   ],
   "source": [
    "[*session.query(base.Study.alembic_id).distinct()]"
   ]
  },
  {
   "cell_type": "code",
   "execution_count": 7,
   "metadata": {},
   "outputs": [
    {
     "data": {
      "text/plain": [
       "[('SRP108496',),\n",
       " ('SRP173298',),\n",
       " ('SRP226476',),\n",
       " ('SRP223858',),\n",
       " ('SRP303290',),\n",
       " ('SRP021193',),\n",
       " ('SRP304149',),\n",
       " ('SRP321796',),\n",
       " ('SRP379573',),\n",
       " ('GSE112087',),\n",
       " ('GSE120178',),\n",
       " ('GSE122459',),\n",
       " ('GSE139358',),\n",
       " ('GSE83687',),\n",
       " ('SRP042228',),\n",
       " ('SRP055438',),\n",
       " ('ERP106487',),\n",
       " ('SRP458076',),\n",
       " ('SRP102685',),\n",
       " ('SRP221484',),\n",
       " ('SRP155976',),\n",
       " ('SRP414798',)]"
      ]
     },
     "execution_count": 7,
     "metadata": {},
     "output_type": "execute_result"
    }
   ],
   "source": [
    "[*session.query(base.Study.velia_id).filter(base.Study.public == False)]"
   ]
  },
  {
   "cell_type": "code",
   "execution_count": 8,
   "metadata": {},
   "outputs": [
    {
     "name": "stderr",
     "output_type": "stream",
     "text": [
      "INFO:root:Updating QC sheet.\n",
      "INFO:aiobotocore.credentials:Found credentials from IAM Role: AWSScopedAccess\n",
      "INFO:root:Reading QC sheet: velia-piperuns-dev/expression_atlas/staging/qc.4.txt.\n",
      "INFO:root:Updated studies with QC sheet: velia-piperuns-dev/expression_atlas/staging/qc.4.txt.\n"
     ]
    }
   ],
   "source": [
    "# Run update, pulling qc from s3 staging and updating qc dependent on qc file.\n",
    "\n",
    "load_db.update_studies_qc(\n",
    "    connection_string=settings.db_connection_string,\n",
    ")"
   ]
  },
  {
   "cell_type": "code",
   "execution_count": 9,
   "metadata": {},
   "outputs": [
    {
     "data": {
      "text/plain": [
       "[('SRP173298',),\n",
       " ('ERP106487',),\n",
       " ('GSE112087',),\n",
       " ('GSE122459',),\n",
       " ('GSE139358',),\n",
       " ('GSE83687',),\n",
       " ('SRP042228',),\n",
       " ('SRP055438',),\n",
       " ('SRP102685',),\n",
       " ('SRP221484',),\n",
       " ('SRP226476',),\n",
       " ('SRP303290',),\n",
       " ('GSE120178',),\n",
       " ('SRP304149',),\n",
       " ('SRP321796',),\n",
       " ('SRP155976',),\n",
       " ('SRP379573',),\n",
       " ('SRP414798',)]"
      ]
     },
     "execution_count": 9,
     "metadata": {},
     "output_type": "execute_result"
    }
   ],
   "source": [
    "[*session.query(base.Study.velia_id).filter(base.Study.public == False)]"
   ]
  }
 ],
 "metadata": {
  "kernelspec": {
   "display_name": "test_db",
   "language": "python",
   "name": "test_db"
  },
  "language_info": {
   "codemirror_mode": {
    "name": "ipython",
    "version": 3
   },
   "file_extension": ".py",
   "mimetype": "text/x-python",
   "name": "python",
   "nbconvert_exporter": "python",
   "pygments_lexer": "ipython3",
   "version": "3.8.18"
  },
  "orig_nbformat": 4
 },
 "nbformat": 4,
 "nbformat_minor": 2
}
