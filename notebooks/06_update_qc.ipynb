{
 "cells": [
  {
   "cell_type": "code",
   "execution_count": 1,
   "metadata": {},
   "outputs": [],
   "source": [
    "from pathlib import Path \n",
    "from typing import *\n",
    "\n",
    "import s3fs\n",
    "import pandas as pd \n",
    "from sqlalchemy import select\n",
    "\n",
    "from expression_atlas_db import base, load_db, settings, queries"
   ]
  },
  {
   "cell_type": "code",
   "execution_count": 30,
   "metadata": {},
   "outputs": [],
   "source": [
    "def fetch_new_studies_qc(\n",
    "    qc_loc: Path = Path(settings.s3_staging_loc),\n",
    ") -> Tuple[pd.DataFrame, pd.DataFrame, int]:\n",
    "    \"\"\"Dumps a new qc template to qc_loc with current studies in db and their public/quality fields.\n",
    "\n",
    "    Args:\n",
    "        qc_loc (Path): Location in s3 for qc files (defaults to the staging_loc).\n",
    "    Returns:\n",
    "        (Tuple[pd.DataFrame, pd.DataFrame]): New studies, and the qc dataframe to be updated.\n",
    "    \"\"\"\n",
    "\n",
    "    s3 = s3fs.S3FileSystem()\n",
    "\n",
    "    qc_files = s3.glob(str(qc_loc / \"qc*txt\").replace(\"s3:/\", \"s3://\"))\n",
    "    qc_files = sorted(\n",
    "        qc_files, key=lambda x: int(Path(x).parts[-1].split(\".\")[1]), reverse=True\n",
    "    )\n",
    "\n",
    "    with s3.open(qc_files[0], \"rb\") as f_in:\n",
    "        qc_new_df = pd.read_csv(f_in, sep=\"|\")\n",
    "    new_studies_df = qc_new_df.copy()\n",
    "\n",
    "    if len(qc_files) > 1:\n",
    "        with s3.open(qc_files[1], \"rb\") as f_in:\n",
    "            qc_old_df = pd.read_csv(f_in, sep=\"|\")\n",
    "        new_studies_df = qc_new_df.loc[\n",
    "            ~qc_new_df['velia_id'].isin(qc_old_df['velia_id'])\n",
    "        ]\n",
    "\n",
    "    qc_number = int(qc_files[0].split(\".\")[1])\n",
    "    \n",
    "    return new_studies_df, qc_new_df, qc_number\n",
    "\n",
    "def update_new_studies_qc(\n",
    "    new_studies_df: pd.DataFrame,\n",
    "    qc_df: pd.DataFrame,\n",
    "    qc_number: int,\n",
    "    qc_loc: Path = Path(settings.s3_staging_loc),\n",
    ") -> None:\n",
    "    \"\"\" Update rows in qc sheet and update in s3.\n",
    "    Args:\n",
    "        new_studies_df (pd.DataFrame): Updated rows in qc_df.\n",
    "        qc_df (pd.DataFrame): Full qc sheet.\n",
    "        qc_number (int): qc number to write qc sheet to. \n",
    "        qc_loc (Path): Location in s3 for qc files (defaults to the staging_loc).\n",
    "    \"\"\"\n",
    "\n",
    "    s3 = s3fs.S3FileSystem()\n",
    "\n",
    "    new_studies_df.set_index('velia_id', inplace=True)\n",
    "    qc_df.set_index('velia_id', inplace=True)\n",
    "\n",
    "    qc_df.loc[new_studies_df.index, ['public', 'quality']] = new_studies_df.loc[:,['public', 'quality']]\n",
    "\n",
    "    with s3.open(\n",
    "        str(Path(qc_loc) / f\"qc.{qc_number}.txt\").replace(\"s3:/\", \"s3://\"), \"w\"\n",
    "    ) as f_out:\n",
    "        qc_df.reset_index(drop=False).to_csv(f_out, index=False, sep=\"|\")"
   ]
  },
  {
   "cell_type": "code",
   "execution_count": 31,
   "metadata": {},
   "outputs": [],
   "source": [
    "new_studies_df, qc_df, qc_no = fetch_new_studies_qc()"
   ]
  },
  {
   "cell_type": "code",
   "execution_count": null,
   "metadata": {},
   "outputs": [],
   "source": [
    "# Edit quality and public columns in new_studies_df.\n",
    "\n",
    "# new_studies_df.loc[:,'public'] = True"
   ]
  },
  {
   "cell_type": "code",
   "execution_count": 34,
   "metadata": {},
   "outputs": [],
   "source": [
    "update_new_studies_qc(\n",
    "    new_studies_df,\n",
    "    qc_df,\n",
    "    qc_no,\n",
    ")"
   ]
  },
  {
   "cell_type": "code",
   "execution_count": 7,
   "metadata": {},
   "outputs": [],
   "source": [
    "Session = base.configure(settings.db_connection_string)\n",
    "session = Session()"
   ]
  },
  {
   "cell_type": "code",
   "execution_count": 35,
   "metadata": {},
   "outputs": [
    {
     "name": "stderr",
     "output_type": "stream",
     "text": [
      "INFO:root:Updating QC sheet.\n",
      "INFO:root:Reading QC sheet: velia-piperuns-dev/expression_atlas/staging/qc.17.txt.\n",
      "INFO:root:Updated studies with QC sheet: velia-piperuns-dev/expression_atlas/staging/qc.17.txt.\n"
     ]
    }
   ],
   "source": [
    "# Run update, pulling qc from s3 staging and updating qc dependent on qc file.\n",
    "\n",
    "load_db.update_studies_qc(\n",
    "    connection_string=settings.db_connection_string,\n",
    ")"
   ]
  },
  {
   "cell_type": "code",
   "execution_count": 37,
   "metadata": {},
   "outputs": [
    {
     "data": {
      "text/plain": [
       "[('SRP450756',),\n",
       " ('SRP237754',),\n",
       " ('GSE152991',),\n",
       " ('SRP460210',),\n",
       " ('GSE194331',),\n",
       " ('GSE206364',),\n",
       " ('GSE213001',),\n",
       " ('SRP439183',),\n",
       " ('ERP151282',),\n",
       " ('GSE110914',),\n",
       " ('SRP422703',),\n",
       " ('SRP437403',),\n",
       " ('SRP265346',),\n",
       " ('GSE122340',),\n",
       " ('GSE231692',),\n",
       " ('GSE123018',),\n",
       " ('GSE83687',),\n",
       " ('ERP105501',),\n",
       " ('ERP109255',),\n",
       " ('GSE130955',),\n",
       " ('ERP146053',),\n",
       " ('GSE143323',),\n",
       " ('SRP035988',),\n",
       " ('SRP042228',),\n",
       " ('GSE102371',),\n",
       " ('GSE157159',),\n",
       " ('SRP053101',),\n",
       " ('SRP245393',),\n",
       " ('GSE208041',),\n",
       " ('SRP065812',),\n",
       " ('SRP096757',),\n",
       " ('GSE162828',),\n",
       " ('GSE72509',),\n",
       " ('SRP113470',),\n",
       " ('GSE80183',),\n",
       " ('GSE89408',),\n",
       " ('SRP090849',),\n",
       " ('SRP186450',),\n",
       " ('SRP201604',),\n",
       " ('SRP129004',),\n",
       " ('SRP226115',),\n",
       " ('SRP132990',),\n",
       " ('SRP191103',),\n",
       " ('SRP237545',),\n",
       " ('SRP277091',),\n",
       " ('SRP217231',),\n",
       " ('SRP220377',),\n",
       " ('SRP288300',),\n",
       " ('SRP250210',),\n",
       " ('SRP155976',),\n",
       " ('SRP278883',),\n",
       " ('SRP287301',),\n",
       " ('SRP293215',),\n",
       " ('SRP223858',),\n",
       " ('SRP298703',),\n",
       " ('SRP303290',),\n",
       " ('SRP108496',),\n",
       " ('SRP021193',),\n",
       " ('GSE131705',),\n",
       " ('SRP458076',),\n",
       " ('SRP439857',),\n",
       " ('SRP149374',),\n",
       " ('GSE154306',),\n",
       " ('SRP348454',),\n",
       " ('GSE194263',),\n",
       " ('SRP238597',),\n",
       " ('ERP106487',),\n",
       " ('GSE121212',),\n",
       " ('SRP432399',),\n",
       " ('ERP017123',),\n",
       " ('SRP351145',),\n",
       " ('SRP373549',),\n",
       " ('SRP077072',),\n",
       " ('SRP151309',),\n",
       " ('SRP363868',),\n",
       " ('SRP328828',),\n",
       " ('SRP412930',),\n",
       " ('SRP398015',),\n",
       " ('SRP435935',),\n",
       " ('SRP445599',),\n",
       " ('SRP237337',),\n",
       " ('SRP311611',),\n",
       " ('SRP273719',)]"
      ]
     },
     "execution_count": 37,
     "metadata": {},
     "output_type": "execute_result"
    }
   ],
   "source": [
    "list(session.query(base.Study.velia_id).filter(base.Study.public == True))"
   ]
  }
 ],
 "metadata": {
  "kernelspec": {
   "display_name": "test_db",
   "language": "python",
   "name": "python3"
  },
  "language_info": {
   "codemirror_mode": {
    "name": "ipython",
    "version": 3
   },
   "file_extension": ".py",
   "mimetype": "text/x-python",
   "name": "python",
   "nbconvert_exporter": "python",
   "pygments_lexer": "ipython3",
   "version": "3.8.18"
  },
  "orig_nbformat": 4
 },
 "nbformat": 4,
 "nbformat_minor": 2
}
