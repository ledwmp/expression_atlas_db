{
 "cells": [
  {
   "cell_type": "code",
   "execution_count": 15,
   "metadata": {},
   "outputs": [],
   "source": [
    "from pathlib import Path\n",
    "\n",
    "import s3fs\n",
    "\n",
    "from expression_atlas_db import base, load_db, settings, queries, utils"
   ]
  },
  {
   "cell_type": "markdown",
   "metadata": {},
   "source": [
    "### Generate test datasets/gtf"
   ]
  },
  {
   "cell_type": "code",
   "execution_count": 48,
   "metadata": {},
   "outputs": [],
   "source": [
    "!grep chr22 ../../veliadb_v0c.gtf > ../expression_atlas_db/test/test_data/veliadb_test.gtf"
   ]
  },
  {
   "cell_type": "code",
   "execution_count": null,
   "metadata": {},
   "outputs": [],
   "source": [
    "!grep chr22 ../../veliadb_v2.gtf > ../expression_atlas_db/test/test_data/veliadb_test_v2.gtf"
   ]
  },
  {
   "cell_type": "code",
   "execution_count": 4,
   "metadata": {},
   "outputs": [],
   "source": [
    "gtf = utils.GTFParser('../expression_atlas_db/test/test_data/veliadb_test.gtf')"
   ]
  },
  {
   "cell_type": "code",
   "execution_count": 5,
   "metadata": {},
   "outputs": [
    {
     "data": {
      "text/html": [
       "<div>\n",
       "<style scoped>\n",
       "    .dataframe tbody tr th:only-of-type {\n",
       "        vertical-align: middle;\n",
       "    }\n",
       "\n",
       "    .dataframe tbody tr th {\n",
       "        vertical-align: top;\n",
       "    }\n",
       "\n",
       "    .dataframe thead th {\n",
       "        text-align: right;\n",
       "    }\n",
       "</style>\n",
       "<table border=\"1\" class=\"dataframe\">\n",
       "  <thead>\n",
       "    <tr style=\"text-align: right;\">\n",
       "      <th></th>\n",
       "      <th>transcript_id</th>\n",
       "      <th>gene_id</th>\n",
       "      <th>veliadb_id</th>\n",
       "      <th>gene_biotype</th>\n",
       "      <th>assembly_id</th>\n",
       "    </tr>\n",
       "  </thead>\n",
       "  <tbody>\n",
       "    <tr>\n",
       "      <th>0</th>\n",
       "      <td>ENST00000624155.2</td>\n",
       "      <td>ENSG00000279973.2</td>\n",
       "      <td>198908</td>\n",
       "      <td>lncRNA</td>\n",
       "      <td>test</td>\n",
       "    </tr>\n",
       "    <tr>\n",
       "      <th>1</th>\n",
       "      <td>ENST00000629028.1</td>\n",
       "      <td>ENSG00000281548.1</td>\n",
       "      <td>202998</td>\n",
       "      <td>lncRNA</td>\n",
       "      <td>test</td>\n",
       "    </tr>\n",
       "    <tr>\n",
       "      <th>2</th>\n",
       "      <td>ENST00000455843.5</td>\n",
       "      <td>ENSG00000284874.1</td>\n",
       "      <td>69813</td>\n",
       "      <td>protein_coding</td>\n",
       "      <td>test</td>\n",
       "    </tr>\n",
       "    <tr>\n",
       "      <th>3</th>\n",
       "      <td>ENST00000431044.5</td>\n",
       "      <td>ENSG00000284874.1</td>\n",
       "      <td>52474</td>\n",
       "      <td>protein_coding</td>\n",
       "      <td>test</td>\n",
       "    </tr>\n",
       "    <tr>\n",
       "      <th>4</th>\n",
       "      <td>ENST00000424559.2</td>\n",
       "      <td>ENSG00000235776.2</td>\n",
       "      <td>47915</td>\n",
       "      <td>processed_pseudogene</td>\n",
       "      <td>test</td>\n",
       "    </tr>\n",
       "    <tr>\n",
       "      <th>...</th>\n",
       "      <td>...</td>\n",
       "      <td>...</td>\n",
       "      <td>...</td>\n",
       "      <td>...</td>\n",
       "      <td>...</td>\n",
       "    </tr>\n",
       "    <tr>\n",
       "      <th>9106</th>\n",
       "      <td>CHS.35618.27</td>\n",
       "      <td>3985</td>\n",
       "      <td>465252</td>\n",
       "      <td>protein_coding</td>\n",
       "      <td>test</td>\n",
       "    </tr>\n",
       "    <tr>\n",
       "      <th>9107</th>\n",
       "      <td>rna-NM_001135911.1</td>\n",
       "      <td>113791</td>\n",
       "      <td>276606</td>\n",
       "      <td>protein_coding</td>\n",
       "      <td>test</td>\n",
       "    </tr>\n",
       "    <tr>\n",
       "      <th>9108</th>\n",
       "      <td>rna-NR_120386.1</td>\n",
       "      <td>54944</td>\n",
       "      <td>328109</td>\n",
       "      <td>lncRNA</td>\n",
       "      <td>test</td>\n",
       "    </tr>\n",
       "    <tr>\n",
       "      <th>9109</th>\n",
       "      <td>CHS.35626.11</td>\n",
       "      <td>4733</td>\n",
       "      <td>465253</td>\n",
       "      <td>protein_coding</td>\n",
       "      <td>test</td>\n",
       "    </tr>\n",
       "    <tr>\n",
       "      <th>9110</th>\n",
       "      <td>CHS.35626.7</td>\n",
       "      <td>4733</td>\n",
       "      <td>465254</td>\n",
       "      <td>protein_coding</td>\n",
       "      <td>test</td>\n",
       "    </tr>\n",
       "  </tbody>\n",
       "</table>\n",
       "<p>9111 rows × 5 columns</p>\n",
       "</div>"
      ],
      "text/plain": [
       "           transcript_id            gene_id  veliadb_id          gene_biotype  \\\n",
       "0      ENST00000624155.2  ENSG00000279973.2      198908                lncRNA   \n",
       "1      ENST00000629028.1  ENSG00000281548.1      202998                lncRNA   \n",
       "2      ENST00000455843.5  ENSG00000284874.1       69813        protein_coding   \n",
       "3      ENST00000431044.5  ENSG00000284874.1       52474        protein_coding   \n",
       "4      ENST00000424559.2  ENSG00000235776.2       47915  processed_pseudogene   \n",
       "...                  ...                ...         ...                   ...   \n",
       "9106        CHS.35618.27               3985      465252        protein_coding   \n",
       "9107  rna-NM_001135911.1             113791      276606        protein_coding   \n",
       "9108     rna-NR_120386.1              54944      328109                lncRNA   \n",
       "9109        CHS.35626.11               4733      465253        protein_coding   \n",
       "9110         CHS.35626.7               4733      465254        protein_coding   \n",
       "\n",
       "     assembly_id  \n",
       "0           test  \n",
       "1           test  \n",
       "2           test  \n",
       "3           test  \n",
       "4           test  \n",
       "...          ...  \n",
       "9106        test  \n",
       "9107        test  \n",
       "9108        test  \n",
       "9109        test  \n",
       "9110        test  \n",
       "\n",
       "[9111 rows x 5 columns]"
      ]
     },
     "execution_count": 5,
     "metadata": {},
     "output_type": "execute_result"
    }
   ],
   "source": [
    "gtf.transcript_df"
   ]
  },
  {
   "cell_type": "code",
   "execution_count": 6,
   "metadata": {},
   "outputs": [
    {
     "data": {
      "text/html": [
       "<div>\n",
       "<style scoped>\n",
       "    .dataframe tbody tr th:only-of-type {\n",
       "        vertical-align: middle;\n",
       "    }\n",
       "\n",
       "    .dataframe tbody tr th {\n",
       "        vertical-align: top;\n",
       "    }\n",
       "\n",
       "    .dataframe thead th {\n",
       "        text-align: right;\n",
       "    }\n",
       "</style>\n",
       "<table border=\"1\" class=\"dataframe\">\n",
       "  <thead>\n",
       "    <tr style=\"text-align: right;\">\n",
       "      <th></th>\n",
       "      <th>gene_id</th>\n",
       "      <th>veliadb_id</th>\n",
       "      <th>gene_biotype</th>\n",
       "      <th>assembly_id</th>\n",
       "    </tr>\n",
       "  </thead>\n",
       "  <tbody>\n",
       "    <tr>\n",
       "      <th>0</th>\n",
       "      <td>ENSG00000279973.2</td>\n",
       "      <td>12509</td>\n",
       "      <td>lncRNA</td>\n",
       "      <td>test</td>\n",
       "    </tr>\n",
       "    <tr>\n",
       "      <th>1</th>\n",
       "      <td>ENSG00000281548.1</td>\n",
       "      <td>16346</td>\n",
       "      <td>lncRNA</td>\n",
       "      <td>test</td>\n",
       "    </tr>\n",
       "    <tr>\n",
       "      <th>2</th>\n",
       "      <td>ENSG00000284874.1</td>\n",
       "      <td>16424</td>\n",
       "      <td>protein_coding</td>\n",
       "      <td>test</td>\n",
       "    </tr>\n",
       "    <tr>\n",
       "      <th>3</th>\n",
       "      <td>ENSG00000235776.2</td>\n",
       "      <td>16463</td>\n",
       "      <td>processed_pseudogene</td>\n",
       "      <td>test</td>\n",
       "    </tr>\n",
       "    <tr>\n",
       "      <th>4</th>\n",
       "      <td>ENSG00000289960.1</td>\n",
       "      <td>16484</td>\n",
       "      <td>lncRNA</td>\n",
       "      <td>test</td>\n",
       "    </tr>\n",
       "    <tr>\n",
       "      <th>...</th>\n",
       "      <td>...</td>\n",
       "      <td>...</td>\n",
       "      <td>...</td>\n",
       "      <td>...</td>\n",
       "    </tr>\n",
       "    <tr>\n",
       "      <th>2114</th>\n",
       "      <td>55000</td>\n",
       "      <td>1399891</td>\n",
       "      <td>protein_coding</td>\n",
       "      <td>test</td>\n",
       "    </tr>\n",
       "    <tr>\n",
       "      <th>2115</th>\n",
       "      <td>3985</td>\n",
       "      <td>1399962</td>\n",
       "      <td>protein_coding</td>\n",
       "      <td>test</td>\n",
       "    </tr>\n",
       "    <tr>\n",
       "      <th>2116</th>\n",
       "      <td>113791</td>\n",
       "      <td>1399978</td>\n",
       "      <td>protein_coding</td>\n",
       "      <td>test</td>\n",
       "    </tr>\n",
       "    <tr>\n",
       "      <th>2117</th>\n",
       "      <td>54944</td>\n",
       "      <td>1399992</td>\n",
       "      <td>lncRNA</td>\n",
       "      <td>test</td>\n",
       "    </tr>\n",
       "    <tr>\n",
       "      <th>2118</th>\n",
       "      <td>4733</td>\n",
       "      <td>1400007</td>\n",
       "      <td>protein_coding</td>\n",
       "      <td>test</td>\n",
       "    </tr>\n",
       "  </tbody>\n",
       "</table>\n",
       "<p>2119 rows × 4 columns</p>\n",
       "</div>"
      ],
      "text/plain": [
       "                gene_id  veliadb_id          gene_biotype assembly_id\n",
       "0     ENSG00000279973.2       12509                lncRNA        test\n",
       "1     ENSG00000281548.1       16346                lncRNA        test\n",
       "2     ENSG00000284874.1       16424        protein_coding        test\n",
       "3     ENSG00000235776.2       16463  processed_pseudogene        test\n",
       "4     ENSG00000289960.1       16484                lncRNA        test\n",
       "...                 ...         ...                   ...         ...\n",
       "2114              55000     1399891        protein_coding        test\n",
       "2115               3985     1399962        protein_coding        test\n",
       "2116             113791     1399978        protein_coding        test\n",
       "2117              54944     1399992                lncRNA        test\n",
       "2118               4733     1400007        protein_coding        test\n",
       "\n",
       "[2119 rows x 4 columns]"
      ]
     },
     "execution_count": 6,
     "metadata": {},
     "output_type": "execute_result"
    }
   ],
   "source": [
    "gtf.gene_df"
   ]
  },
  {
   "cell_type": "code",
   "execution_count": 16,
   "metadata": {},
   "outputs": [],
   "source": [
    "exp_srp129004 = utils.ExperimentParser('SRP129004', Path(settings.s3_experiment_loc))"
   ]
  },
  {
   "cell_type": "code",
   "execution_count": 45,
   "metadata": {},
   "outputs": [],
   "source": [
    "exp_erp106487 = utils.ExperimentParser('ERP106487', Path(settings.s3_experiment_loc))"
   ]
  },
  {
   "cell_type": "code",
   "execution_count": 17,
   "metadata": {},
   "outputs": [],
   "source": [
    "s3 = s3fs.S3FileSystem()"
   ]
  },
  {
   "cell_type": "code",
   "execution_count": 18,
   "metadata": {},
   "outputs": [],
   "source": [
    "exp_srp129004.enable_s3(s3)"
   ]
  },
  {
   "cell_type": "code",
   "execution_count": 46,
   "metadata": {},
   "outputs": [],
   "source": [
    "exp_erp106487.enable_s3(s3)"
   ]
  },
  {
   "cell_type": "code",
   "execution_count": 20,
   "metadata": {},
   "outputs": [],
   "source": [
    "exp_srp129004.load_adatas()"
   ]
  },
  {
   "cell_type": "code",
   "execution_count": 47,
   "metadata": {},
   "outputs": [],
   "source": [
    "exp_erp106487.load_adatas()"
   ]
  },
  {
   "cell_type": "code",
   "execution_count": 33,
   "metadata": {},
   "outputs": [
    {
     "data": {
      "text/plain": [
       "View of AnnData object with n_obs × n_vars = 222 × 3955\n",
       "    obs: 'condition-2', 'condition-1', 'sample_type_2', 'sample_type_1', 'sample_condition_2', 'sample_condition_1', 'disease_1', 'single_end', 'strandedness', 'experiment_accession', 'submission_accession', 'library_layout', 'library_selection', 'library_source', 'library_strategy', 'library_name', 'instrument_model', 'instrument_platform', 'read_count', 'tax_id', 'sample_title', 'experiment_title', 'sample_description', 'size_factors', 'lib_sizes', 'sample_sums'\n",
       "    var: 'length', 'mean', 'std'\n",
       "    uns: '_squared_logres', 'condition-1_colors', 'condition-2_colors', 'contrasts', 'gene_transcript_mapping', 'instrument_model_colors', 'library_layout_colors', 'normed_counts_transform_scalefactor', 'pca', 'prior_disp_var', 'stat_results', 'trend_coeffs'\n",
       "    obsm: 'X_pca', 'design_matrix', 'replaceable', 'size_factors'\n",
       "    varm: 'LFC', 'LFC_reflevel_CONTROL', 'LFC_reflevel_CONTROL_raw', 'MAP_dispersions', 'PCs', '_LFC_converged', '_MAP_converged', '_genewise_converged', '_normed_means', '_outlier_genes', '_rough_dispersions', 'dispersions', 'fitted_dispersions', 'genewise_dispersions', 'non_zero', 'normed_counts_group', 'normed_counts_group_mean', 'replaced'\n",
       "    layers: '_hat_diagonals', '_mu_LFC', '_mu_hat', 'cooks', 'counts', 'fraction_counts', 'normed_counts', 'normed_counts_transform', 'normed_tpm', 'raw_tpm', 'replace_cooks', 'vst_counts'"
      ]
     },
     "metadata": {},
     "output_type": "display_data"
    },
    {
     "data": {
      "text/plain": [
       "View of AnnData object with n_obs × n_vars = 222 × 1022\n",
       "    obs: 'condition-2', 'condition-1', 'sample_type_2', 'sample_type_1', 'sample_condition_2', 'sample_condition_1', 'disease_1', 'single_end', 'strandedness', 'experiment_accession', 'submission_accession', 'library_layout', 'library_selection', 'library_source', 'library_strategy', 'library_name', 'instrument_model', 'instrument_platform', 'read_count', 'tax_id', 'sample_title', 'experiment_title', 'sample_description', 'size_factors', 'lib_sizes', 'sample_sums'\n",
       "    var: 'length', 'mean', 'std'\n",
       "    uns: '_squared_logres', 'condition-1_colors', 'condition-2_colors', 'contrasts', 'gene_transcript_mapping', 'gsea_gene_df', 'gsea_results_prerank', 'gsea_results_standard', 'instrument_model_colors', 'library_layout_colors', 'normed_counts_transform_scalefactor', 'pca', 'prior_disp_var', 'ssgsea_colnames', 'stat_results', 'stat_results_gsea', 'trend_coeffs'\n",
       "    obsm: 'KEGG_2016_ssgsea_es', 'KEGG_2016_ssgsea_nes', 'Reactome_2016_ssgsea_es', 'Reactome_2016_ssgsea_nes', 'X_pca', 'design_matrix', 'h.all_ssgsea_es', 'h.all_ssgsea_nes', 'replaceable', 'size_factors'\n",
       "    varm: 'LFC', 'LFC_reflevel_CONTROL', 'LFC_reflevel_CONTROL_raw', 'MAP_dispersions', 'PCs', '_LFC_converged', '_MAP_converged', '_genewise_converged', '_normed_means', '_outlier_genes', '_rough_dispersions', 'dispersions', 'fitted_dispersions', 'genewise_dispersions', 'non_zero', 'normed_counts_group', 'normed_counts_group_mean', 'replaced'\n",
       "    layers: '_hat_diagonals', '_mu_LFC', '_mu_hat', 'cooks', 'counts', 'fraction_counts', 'normed_counts', 'normed_counts_transform', 'normed_tpm', 'raw_tpm', 'replace_cooks', 'vst_counts'"
      ]
     },
     "metadata": {},
     "output_type": "display_data"
    }
   ],
   "source": [
    "exp_srp129004._adata_transcript = exp_srp129004._adata_transcript[:,exp_srp129004._adata_transcript.var.index.isin(gtf.transcript_df['transcript_id'])]\n",
    "display(exp_srp129004._adata_transcript)\n",
    "exp_srp129004._adata_gene = exp_srp129004._adata_gene[:,exp_srp129004._adata_gene.var.index.isin(gtf.gene_df['gene_id'])]\n",
    "display(exp_srp129004._adata_gene)"
   ]
  },
  {
   "cell_type": "code",
   "execution_count": 49,
   "metadata": {},
   "outputs": [
    {
     "data": {
      "text/plain": [
       "View of AnnData object with n_obs × n_vars = 222 × 3955\n",
       "    obs: 'condition-2', 'condition-1', 'sample_type_2', 'sample_type_1', 'sample_condition_2', 'sample_condition_1', 'disease_1', 'single_end', 'strandedness', 'experiment_accession', 'submission_accession', 'library_layout', 'library_selection', 'library_source', 'library_strategy', 'library_name', 'instrument_model', 'instrument_platform', 'read_count', 'tax_id', 'sample_title', 'experiment_title', 'sample_description', 'size_factors', 'lib_sizes', 'sample_sums'\n",
       "    var: 'length', 'mean', 'std'\n",
       "    uns: '_squared_logres', 'condition-1_colors', 'condition-2_colors', 'contrasts', 'gene_transcript_mapping', 'instrument_model_colors', 'library_layout_colors', 'normed_counts_transform_scalefactor', 'pca', 'prior_disp_var', 'stat_results', 'trend_coeffs'\n",
       "    obsm: 'X_pca', 'design_matrix', 'replaceable', 'size_factors'\n",
       "    varm: 'LFC', 'LFC_reflevel_CONTROL', 'LFC_reflevel_CONTROL_raw', 'MAP_dispersions', 'PCs', '_LFC_converged', '_MAP_converged', '_genewise_converged', '_normed_means', '_outlier_genes', '_rough_dispersions', 'dispersions', 'fitted_dispersions', 'genewise_dispersions', 'non_zero', 'normed_counts_group', 'normed_counts_group_mean', 'replaced'\n",
       "    layers: '_hat_diagonals', '_mu_LFC', '_mu_hat', 'cooks', 'counts', 'fraction_counts', 'normed_counts', 'normed_counts_transform', 'normed_tpm', 'raw_tpm', 'replace_cooks', 'vst_counts'"
      ]
     },
     "metadata": {},
     "output_type": "display_data"
    },
    {
     "data": {
      "text/plain": [
       "View of AnnData object with n_obs × n_vars = 79 × 859\n",
       "    obs: 'condition-4', 'condition-3', 'condition-2', 'condition-1', 'sample_type_2', 'sample_type_1', 'sample_condition_5', 'sample_condition_4', 'sample_condition_3', 'sample_condition_2', 'sample_condition_1', 'disease_2', 'disease_1', 'single_end', 'strandedness', 'submission_accession', 'library_layout', 'library_selection', 'library_source', 'library_strategy', 'library_name', 'instrument_model', 'instrument_platform', 'read_count', 'tax_id', 'sample_title', 'experiment_title', 'size_factors', 'lib_sizes', '-condition-1', 'sample_sums'\n",
       "    var: 'length', 'mean', 'std'\n",
       "    uns: '_squared_logres', 'condition-1_colors', 'condition-2_colors', 'condition-3_colors', 'condition-4_colors', 'contrasts', 'gene_transcript_mapping', 'gsea_gene_df', 'gsea_results_prerank', 'gsea_results_standard', 'instrument_model_colors', 'library_layout_colors', 'normed_counts_transform_scalefactor', 'pca', 'prior_disp_var', 'sample_type_1_colors', 'sample_type_2_colors', 'ssgsea_colnames', 'stat_results', 'stat_results_gsea', 'trend_coeffs'\n",
       "    obsm: 'KEGG_2016_ssgsea_es', 'KEGG_2016_ssgsea_nes', 'Reactome_2016_ssgsea_es', 'Reactome_2016_ssgsea_nes', 'X_pca', 'design_matrix', 'h.all_ssgsea_es', 'h.all_ssgsea_nes', 'replaceable', 'size_factors'\n",
       "    varm: 'LFC', 'LFC_reflevel_ASCENDING-COLON-CONTROL', 'LFC_reflevel_ASCENDING-COLON-CONTROL_raw', 'LFC_reflevel_ASCENDING-COLON-DISEASE-2', 'LFC_reflevel_ASCENDING-COLON-DISEASE-2_raw', 'LFC_reflevel_CONTROL', 'LFC_reflevel_CONTROL_raw', 'LFC_reflevel_DISEASE-2', 'LFC_reflevel_DISEASE-2_raw', 'LFC_reflevel_SIGMOID-COLON-CONTROL', 'LFC_reflevel_SIGMOID-COLON-CONTROL_raw', 'LFC_reflevel_SIGMOID-COLON-DISEASE-2', 'LFC_reflevel_SIGMOID-COLON-DISEASE-2_raw', 'LFC_reflevel_TERMINAL-ILEUM-CONTROL', 'LFC_reflevel_TERMINAL-ILEUM-CONTROL_raw', 'LFC_reflevel_TERMINAL-ILEUM-DISEASE-2', 'LFC_reflevel_TERMINAL-ILEUM-DISEASE-2_raw', 'MAP_dispersions', 'PCs', '_LFC_converged', '_MAP_converged', '_genewise_converged', '_normed_means', '_outlier_genes', '_rough_dispersions', 'dispersions', 'fitted_dispersions', 'genewise_dispersions', 'non_zero', 'normed_counts_group', 'normed_counts_group_mean', 'replaced'\n",
       "    layers: '_hat_diagonals', '_mu_LFC', '_mu_hat', 'cooks', 'counts', 'fraction_counts', 'normed_counts', 'normed_counts_transform', 'normed_tpm', 'raw_tpm', 'replace_cooks', 'vst_counts'"
      ]
     },
     "metadata": {},
     "output_type": "display_data"
    }
   ],
   "source": [
    "exp_erp106487._adata_transcript = exp_erp106487._adata_transcript[:,exp_erp106487._adata_transcript.var.index.isin(gtf.transcript_df['transcript_id'])]\n",
    "display(exp_srp129004._adata_transcript)\n",
    "exp_erp106487._adata_gene = exp_erp106487._adata_gene[:,exp_erp106487._adata_gene.var.index.isin(gtf.gene_df['gene_id'])]\n",
    "display(exp_erp106487._adata_gene)"
   ]
  },
  {
   "cell_type": "code",
   "execution_count": 51,
   "metadata": {},
   "outputs": [
    {
     "name": "stdout",
     "output_type": "stream",
     "text": [
      "(3955, 232)\n",
      "(1022, 231)\n"
     ]
    }
   ],
   "source": [
    "for k,v in exp_srp129004._adata_transcript.uns['stat_results'].items():\n",
    "    exp_srp129004._adata_transcript.uns['stat_results'][k] = v[v.index.isin(gtf.transcript_df['transcript_id'])]\n",
    "    print(exp_srp129004._adata_transcript.uns['stat_results'][k].shape)\n",
    "for k,v in exp_srp129004._adata_gene.uns['stat_results'].items():\n",
    "    exp_srp129004._adata_gene.uns['stat_results'][k] = v[v.index.isin(gtf.gene_df['gene_id'])]\n",
    "    print(exp_srp129004._adata_gene.uns['stat_results'][k].shape)\n"
   ]
  },
  {
   "cell_type": "code",
   "execution_count": 50,
   "metadata": {},
   "outputs": [
    {
     "name": "stdout",
     "output_type": "stream",
     "text": [
      "(3580, 20)\n",
      "(3580, 20)\n",
      "(3580, 20)\n",
      "(3580, 62)\n",
      "(3580, 31)\n",
      "(3580, 32)\n",
      "(3580, 31)\n",
      "(3580, 31)\n",
      "(3580, 32)\n",
      "(3580, 31)\n",
      "(3580, 64)\n",
      "(3580, 62)\n",
      "(859, 19)\n",
      "(859, 19)\n",
      "(859, 19)\n",
      "(859, 61)\n",
      "(859, 30)\n",
      "(859, 31)\n",
      "(859, 30)\n",
      "(859, 30)\n",
      "(859, 31)\n",
      "(859, 30)\n",
      "(859, 63)\n",
      "(859, 61)\n"
     ]
    }
   ],
   "source": [
    "for k,v in exp_erp106487._adata_transcript.uns['stat_results'].items():\n",
    "    exp_erp106487._adata_transcript.uns['stat_results'][k] = v[v.index.isin(gtf.transcript_df['transcript_id'])]\n",
    "    print(exp_erp106487._adata_transcript.uns['stat_results'][k].shape)\n",
    "for k,v in exp_erp106487._adata_gene.uns['stat_results'].items():\n",
    "    exp_erp106487._adata_gene.uns['stat_results'][k] = v[v.index.isin(gtf.gene_df['gene_id'])]\n",
    "    print(exp_erp106487._adata_gene.uns['stat_results'][k].shape)\n"
   ]
  },
  {
   "cell_type": "code",
   "execution_count": 42,
   "metadata": {},
   "outputs": [],
   "source": [
    "exp_srp129004._adata_gene.write_h5ad('../expression_atlas_db/test/test_data/test/SRP129004_test/de_results/SRP129004_test_dds_gene.h5ad')\n",
    "exp_srp129004._adata_transcript.write_h5ad('../expression_atlas_db/test/test_data/test/SRP129004_test/de_results/SRP129004_test_dds_transcript.h5ad')"
   ]
  },
  {
   "cell_type": "code",
   "execution_count": 52,
   "metadata": {},
   "outputs": [],
   "source": [
    "exp_erp106487._adata_gene.write_h5ad('../expression_atlas_db/test/test_data/test/ERP106487_test/de_results/ERP106487_test_dds_gene.h5ad')\n",
    "exp_erp106487._adata_transcript.write_h5ad('../expression_atlas_db/test/test_data/test/ERP106487_test/de_results/ERP106487_test_dds_transcript.h5ad')"
   ]
  },
  {
   "cell_type": "code",
   "execution_count": 67,
   "metadata": {},
   "outputs": [
    {
     "data": {
      "text/plain": [
       "AnnData object with n_obs × n_vars = 222 × 1022 backed at '../expression_atlas_db/test/test_data/SRP129004_test/de_results/SRP129004_test_dds_gene.h5ad'\n",
       "    obs: 'condition-2', 'condition-1', 'sample_type_2', 'sample_type_1', 'sample_condition_2', 'sample_condition_1', 'disease_1', 'single_end', 'strandedness', 'experiment_accession', 'submission_accession', 'library_layout', 'library_selection', 'library_source', 'library_strategy', 'library_name', 'instrument_model', 'instrument_platform', 'read_count', 'tax_id', 'sample_title', 'experiment_title', 'sample_description', 'size_factors', 'lib_sizes', 'sample_sums'\n",
       "    var: 'length', 'mean', 'std'\n",
       "    uns: '_squared_logres', 'condition-1_colors', 'condition-2_colors', 'contrasts', 'gene_transcript_mapping', 'gsea_gene_df', 'gsea_results_prerank', 'gsea_results_standard', 'instrument_model_colors', 'library_layout_colors', 'normed_counts_transform_scalefactor', 'pca', 'prior_disp_var', 'ssgsea_colnames', 'stat_results', 'stat_results_gsea', 'trend_coeffs'\n",
       "    obsm: 'KEGG_2016_ssgsea_es', 'KEGG_2016_ssgsea_nes', 'Reactome_2016_ssgsea_es', 'Reactome_2016_ssgsea_nes', 'X_pca', 'design_matrix', 'h.all_ssgsea_es', 'h.all_ssgsea_nes', 'replaceable', 'size_factors'\n",
       "    varm: 'LFC', 'LFC_reflevel_CONTROL', 'LFC_reflevel_CONTROL_raw', 'MAP_dispersions', 'PCs', '_LFC_converged', '_MAP_converged', '_genewise_converged', '_normed_means', '_outlier_genes', '_rough_dispersions', 'dispersions', 'fitted_dispersions', 'genewise_dispersions', 'non_zero', 'normed_counts_group', 'normed_counts_group_mean', 'replaced'\n",
       "    layers: '_hat_diagonals', '_mu_LFC', '_mu_hat', 'cooks', 'counts', 'fraction_counts', 'normed_counts', 'normed_counts_transform', 'normed_tpm', 'raw_tpm', 'replace_cooks', 'vst_counts'"
      ]
     },
     "metadata": {},
     "output_type": "display_data"
    },
    {
     "data": {
      "text/plain": [
       "AnnData object with n_obs × n_vars = 222 × 3955 backed at '../expression_atlas_db/test/test_data/SRP129004_test/de_results/SRP129004_test_dds_transcript.h5ad'\n",
       "    obs: 'condition-2', 'condition-1', 'sample_type_2', 'sample_type_1', 'sample_condition_2', 'sample_condition_1', 'disease_1', 'single_end', 'strandedness', 'experiment_accession', 'submission_accession', 'library_layout', 'library_selection', 'library_source', 'library_strategy', 'library_name', 'instrument_model', 'instrument_platform', 'read_count', 'tax_id', 'sample_title', 'experiment_title', 'sample_description', 'size_factors', 'lib_sizes', 'sample_sums'\n",
       "    var: 'length', 'mean', 'std'\n",
       "    uns: '_squared_logres', 'condition-1_colors', 'condition-2_colors', 'contrasts', 'gene_transcript_mapping', 'instrument_model_colors', 'library_layout_colors', 'normed_counts_transform_scalefactor', 'pca', 'prior_disp_var', 'stat_results', 'trend_coeffs'\n",
       "    obsm: 'X_pca', 'design_matrix', 'replaceable', 'size_factors'\n",
       "    varm: 'LFC', 'LFC_reflevel_CONTROL', 'LFC_reflevel_CONTROL_raw', 'MAP_dispersions', 'PCs', '_LFC_converged', '_MAP_converged', '_genewise_converged', '_normed_means', '_outlier_genes', '_rough_dispersions', 'dispersions', 'fitted_dispersions', 'genewise_dispersions', 'non_zero', 'normed_counts_group', 'normed_counts_group_mean', 'replaced'\n",
       "    layers: '_hat_diagonals', '_mu_LFC', '_mu_hat', 'cooks', 'counts', 'fraction_counts', 'normed_counts', 'normed_counts_transform', 'normed_tpm', 'raw_tpm', 'replace_cooks', 'vst_counts'"
      ]
     },
     "metadata": {},
     "output_type": "display_data"
    }
   ],
   "source": [
    "exp_srp129004_test = utils.ExperimentParser('SRP129004_test', Path('../expression_atlas_db/test/test_data/test'))\n",
    "exp_srp129004_test.load_adatas()\n",
    "display(exp_srp129004_test._adata_gene)\n",
    "display(exp_srp129004_test._adata_transcript)"
   ]
  },
  {
   "cell_type": "code",
   "execution_count": 68,
   "metadata": {},
   "outputs": [
    {
     "data": {
      "text/plain": [
       "AnnData object with n_obs × n_vars = 79 × 859 backed at '../expression_atlas_db/test/test_data/ERP106487_test/de_results/ERP106487_test_dds_gene.h5ad'\n",
       "    obs: 'condition-4', 'condition-3', 'condition-2', 'condition-1', 'sample_type_2', 'sample_type_1', 'sample_condition_5', 'sample_condition_4', 'sample_condition_3', 'sample_condition_2', 'sample_condition_1', 'disease_2', 'disease_1', 'single_end', 'strandedness', 'submission_accession', 'library_layout', 'library_selection', 'library_source', 'library_strategy', 'library_name', 'instrument_model', 'instrument_platform', 'read_count', 'tax_id', 'sample_title', 'experiment_title', 'size_factors', 'lib_sizes', '-condition-1', 'sample_sums'\n",
       "    var: 'length', 'mean', 'std'\n",
       "    uns: '_squared_logres', 'condition-1_colors', 'condition-2_colors', 'condition-3_colors', 'condition-4_colors', 'contrasts', 'gene_transcript_mapping', 'gsea_gene_df', 'gsea_results_prerank', 'gsea_results_standard', 'instrument_model_colors', 'library_layout_colors', 'normed_counts_transform_scalefactor', 'pca', 'prior_disp_var', 'sample_type_1_colors', 'sample_type_2_colors', 'ssgsea_colnames', 'stat_results', 'stat_results_gsea', 'trend_coeffs'\n",
       "    obsm: 'KEGG_2016_ssgsea_es', 'KEGG_2016_ssgsea_nes', 'Reactome_2016_ssgsea_es', 'Reactome_2016_ssgsea_nes', 'X_pca', 'design_matrix', 'h.all_ssgsea_es', 'h.all_ssgsea_nes', 'replaceable', 'size_factors'\n",
       "    varm: 'LFC', 'LFC_reflevel_ASCENDING-COLON-CONTROL', 'LFC_reflevel_ASCENDING-COLON-CONTROL_raw', 'LFC_reflevel_ASCENDING-COLON-DISEASE-2', 'LFC_reflevel_ASCENDING-COLON-DISEASE-2_raw', 'LFC_reflevel_CONTROL', 'LFC_reflevel_CONTROL_raw', 'LFC_reflevel_DISEASE-2', 'LFC_reflevel_DISEASE-2_raw', 'LFC_reflevel_SIGMOID-COLON-CONTROL', 'LFC_reflevel_SIGMOID-COLON-CONTROL_raw', 'LFC_reflevel_SIGMOID-COLON-DISEASE-2', 'LFC_reflevel_SIGMOID-COLON-DISEASE-2_raw', 'LFC_reflevel_TERMINAL-ILEUM-CONTROL', 'LFC_reflevel_TERMINAL-ILEUM-CONTROL_raw', 'LFC_reflevel_TERMINAL-ILEUM-DISEASE-2', 'LFC_reflevel_TERMINAL-ILEUM-DISEASE-2_raw', 'MAP_dispersions', 'PCs', '_LFC_converged', '_MAP_converged', '_genewise_converged', '_normed_means', '_outlier_genes', '_rough_dispersions', 'dispersions', 'fitted_dispersions', 'genewise_dispersions', 'non_zero', 'normed_counts_group', 'normed_counts_group_mean', 'replaced'\n",
       "    layers: '_hat_diagonals', '_mu_LFC', '_mu_hat', 'cooks', 'counts', 'fraction_counts', 'normed_counts', 'normed_counts_transform', 'normed_tpm', 'raw_tpm', 'replace_cooks', 'vst_counts'"
      ]
     },
     "metadata": {},
     "output_type": "display_data"
    },
    {
     "data": {
      "text/plain": [
       "AnnData object with n_obs × n_vars = 79 × 3580 backed at '../expression_atlas_db/test/test_data/ERP106487_test/de_results/ERP106487_test_dds_transcript.h5ad'\n",
       "    obs: 'condition-4', 'condition-3', 'condition-2', 'condition-1', 'sample_type_2', 'sample_type_1', 'sample_condition_5', 'sample_condition_4', 'sample_condition_3', 'sample_condition_2', 'sample_condition_1', 'disease_2', 'disease_1', 'single_end', 'strandedness', 'submission_accession', 'library_layout', 'library_selection', 'library_source', 'library_strategy', 'library_name', 'instrument_model', 'instrument_platform', 'read_count', 'tax_id', 'sample_title', 'experiment_title', 'size_factors', 'lib_sizes', '-condition-1', 'sample_sums'\n",
       "    var: 'length', 'mean', 'std'\n",
       "    uns: '_squared_logres', 'condition-1_colors', 'condition-2_colors', 'condition-3_colors', 'condition-4_colors', 'contrasts', 'gene_transcript_mapping', 'instrument_model_colors', 'library_layout_colors', 'normed_counts_transform_scalefactor', 'pca', 'prior_disp_var', 'stat_results', 'trend_coeffs'\n",
       "    obsm: 'X_pca', 'design_matrix', 'replaceable', 'size_factors'\n",
       "    varm: 'LFC', 'LFC_reflevel_ASCENDING-COLON-CONTROL', 'LFC_reflevel_ASCENDING-COLON-CONTROL_raw', 'LFC_reflevel_ASCENDING-COLON-DISEASE-2', 'LFC_reflevel_ASCENDING-COLON-DISEASE-2_raw', 'LFC_reflevel_CONTROL', 'LFC_reflevel_CONTROL_raw', 'LFC_reflevel_DISEASE-2', 'LFC_reflevel_DISEASE-2_raw', 'LFC_reflevel_SIGMOID-COLON-CONTROL', 'LFC_reflevel_SIGMOID-COLON-CONTROL_raw', 'LFC_reflevel_SIGMOID-COLON-DISEASE-2', 'LFC_reflevel_SIGMOID-COLON-DISEASE-2_raw', 'LFC_reflevel_TERMINAL-ILEUM-CONTROL', 'LFC_reflevel_TERMINAL-ILEUM-CONTROL_raw', 'LFC_reflevel_TERMINAL-ILEUM-DISEASE-2', 'LFC_reflevel_TERMINAL-ILEUM-DISEASE-2_raw', 'MAP_dispersions', 'PCs', '_LFC_converged', '_MAP_converged', '_genewise_converged', '_normed_means', '_outlier_genes', '_rough_dispersions', 'dispersions', 'fitted_dispersions', 'genewise_dispersions', 'non_zero', 'normed_counts_group', 'normed_counts_group_mean', 'replaced'\n",
       "    layers: '_hat_diagonals', '_mu_LFC', '_mu_hat', 'cooks', 'counts', 'fraction_counts', 'normed_counts', 'normed_counts_transform', 'normed_tpm', 'raw_tpm', 'replace_cooks', 'vst_counts'"
      ]
     },
     "metadata": {},
     "output_type": "display_data"
    }
   ],
   "source": [
    "exp_erp106487_test = utils.ExperimentParser('ERP106487_test', Path('../expression_atlas_db/test/test_data/test'))\n",
    "exp_erp106487_test.load_adatas()\n",
    "display(exp_erp106487_test._adata_gene)\n",
    "display(exp_erp106487_test._adata_transcript)"
   ]
  },
  {
   "cell_type": "code",
   "execution_count": 1,
   "metadata": {},
   "outputs": [
    {
     "name": "stdout",
     "output_type": "stream",
     "text": [
      "./test_data/\n",
      "./test_data/test.gtf\n",
      "./test_data/ERP106487/\n",
      "./test_data/ERP106487/de_results/\n",
      "./test_data/ERP106487/de_results/ERP106487_test_dds_gene.h5ad\n",
      "./test_data/ERP106487/de_results/ERP106487_test_dds_transcript.h5ad\n",
      "./test_data/SRP129004/\n",
      "./test_data/SRP129004/de_results/\n",
      "./test_data/SRP129004/de_results/SRP129004_test_dds_gene.h5ad\n",
      "./test_data/SRP129004/de_results/SRP129004_test_dds_transcript.h5ad\n",
      "./test_data/test_v2.gtf\n",
      "./test_data/test/\n",
      "./test_data/test/SRP129004/\n",
      "./test_data/test/SRP129004/de_results/\n",
      "./test_data/test/SRP129004/de_results/SRP129004_test_dds_gene.h5ad\n",
      "./test_data/test/SRP129004/de_results/SRP129004_test_dds_transcript.h5ad\n",
      "./test_data/test/ERP106487/\n",
      "./test_data/test/ERP106487/de_results/\n",
      "./test_data/test/ERP106487/de_results/ERP106487_test_dds_gene.h5ad\n",
      "./test_data/test/ERP106487/de_results/ERP106487_test_dds_transcript.h5ad\n",
      "./test_data/veliadb_test.gtf\n",
      "./test_data/veliadb_test_v2.gtf\n"
     ]
    }
   ],
   "source": [
    "!tar -C ../expression_atlas_db/test/ -czvf ../expression_atlas_db/test/test_data.tar.gz ./test_data/ "
   ]
  }
 ],
 "metadata": {
  "kernelspec": {
   "display_name": "test_db",
   "language": "python",
   "name": "python3"
  },
  "language_info": {
   "codemirror_mode": {
    "name": "ipython",
    "version": 3
   },
   "file_extension": ".py",
   "mimetype": "text/x-python",
   "name": "python",
   "nbconvert_exporter": "python",
   "pygments_lexer": "ipython3",
   "version": "3.8.18"
  },
  "orig_nbformat": 4
 },
 "nbformat": 4,
 "nbformat_minor": 2
}
